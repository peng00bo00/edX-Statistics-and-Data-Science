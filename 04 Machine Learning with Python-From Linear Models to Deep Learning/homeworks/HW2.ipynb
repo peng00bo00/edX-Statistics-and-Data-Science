{
  "nbformat": 4,
  "nbformat_minor": 0,
  "metadata": {
    "colab": {
      "name": "HW2.ipynb",
      "provenance": [],
      "collapsed_sections": []
    },
    "kernelspec": {
      "name": "python3",
      "display_name": "Python 3"
    }
  },
  "cells": [
    {
      "cell_type": "code",
      "metadata": {
        "id": "Wx1eO8XSZwkw"
      },
      "source": [
        "import numpy as np"
      ],
      "execution_count": null,
      "outputs": []
    },
    {
      "cell_type": "markdown",
      "metadata": {
        "id": "0TrkmDK-Z0xr"
      },
      "source": [
        "# 1. Collaborative Filtering, Kernels, Linear Regression"
      ]
    },
    {
      "cell_type": "code",
      "metadata": {
        "id": "ECY9KiULZ0Ur",
        "outputId": "f3b2bef7-4932-4b06-eb0c-6499fb195c8c",
        "colab": {
          "base_uri": "https://localhost:8080/",
          "height": 84
        }
      },
      "source": [
        "U = np.array([6, 0, 3, 6])\n",
        "V = np.array([4, 2, 1])\n",
        "\n",
        "X = U.reshape((-1, 1)) @ V.reshape((1, -1))\n",
        "print(X)"
      ],
      "execution_count": null,
      "outputs": [
        {
          "output_type": "stream",
          "text": [
            "[[24 12  6]\n",
            " [ 0  0  0]\n",
            " [12  6  3]\n",
            " [24 12  6]]\n"
          ],
          "name": "stdout"
        }
      ]
    },
    {
      "cell_type": "code",
      "metadata": {
        "id": "hBsZLILfaNlH",
        "outputId": "be262daf-44b4-4ecb-d058-5d080756c316",
        "colab": {
          "base_uri": "https://localhost:8080/",
          "height": 33
        }
      },
      "source": [
        "Y = np.array([[5, 0, 7],\n",
        "              [0, 2, 0],\n",
        "              [4, 0, 0],\n",
        "              [0, 3, 6]])\n",
        "mask = Y > 0\n",
        "\n",
        "err = 1/2 * np.sum(((Y - X)**2)[mask])\n",
        "reg = 1/2 * (U @ U + V @ V)\n",
        "\n",
        "print(f\"Square Error: {err}, Reg: {reg}\")"
      ],
      "execution_count": null,
      "outputs": [
        {
          "output_type": "stream",
          "text": [
            "Square Error: 255.5, Reg: 51.0\n"
          ],
          "name": "stdout"
        }
      ]
    },
    {
      "cell_type": "code",
      "metadata": {
        "id": "cv14Flombx64",
        "outputId": "5876a51b-a012-40ba-f8c6-9436ff16ffea",
        "colab": {
          "base_uri": "https://localhost:8080/",
          "height": 33
        }
      },
      "source": [
        "lam = 1\n",
        "Y @ V / (np.ma.array(np.tile(np.diag(V.reshape((-1, 1)) @ V.reshape((1, -1))), (U.shape[0],1)), mask=~mask).sum(axis=1).data+lam)"
      ],
      "execution_count": null,
      "outputs": [
        {
          "output_type": "execute_result",
          "data": {
            "text/plain": [
              "array([1.5       , 0.8       , 0.94117647, 2.        ])"
            ]
          },
          "metadata": {
            "tags": []
          },
          "execution_count": 32
        }
      ]
    }
  ]
}