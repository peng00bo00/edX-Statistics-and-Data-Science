{
  "nbformat": 4,
  "nbformat_minor": 0,
  "metadata": {
    "colab": {
      "name": "HW1.ipynb",
      "provenance": [],
      "collapsed_sections": [],
      "toc_visible": true
    },
    "kernelspec": {
      "name": "python3",
      "display_name": "Python 3"
    }
  },
  "cells": [
    {
      "cell_type": "code",
      "metadata": {
        "id": "R8VO3dglTIHb",
        "colab_type": "code",
        "colab": {}
      },
      "source": [
        "import numpy as np\n",
        "import matplotlib.pyplot as plt"
      ],
      "execution_count": null,
      "outputs": []
    },
    {
      "cell_type": "code",
      "metadata": {
        "id": "ONM7oPQTenvO",
        "colab_type": "code",
        "colab": {}
      },
      "source": [
        "def sign(x):\n",
        "  if x > 0:\n",
        "    return 1\n",
        "  elif x < 0:\n",
        "    return -1"
      ],
      "execution_count": null,
      "outputs": []
    },
    {
      "cell_type": "markdown",
      "metadata": {
        "id": "gz_l4WCxTQal",
        "colab_type": "text"
      },
      "source": [
        "# 1.Perceptron Mistakes"
      ]
    },
    {
      "cell_type": "markdown",
      "metadata": {
        "id": "LLT_WfXXV5T6",
        "colab_type": "text"
      },
      "source": [
        "## 1.(a)"
      ]
    },
    {
      "cell_type": "code",
      "metadata": {
        "id": "jn1gVWyOT2N0",
        "colab_type": "code",
        "colab": {}
      },
      "source": [
        "def step(x, y, theta):\n",
        "  \"\"\"\n",
        "  Take one step in updating perceptron.\n",
        "  \"\"\"\n",
        "\n",
        "  if y * (x @ theta) <= 0:\n",
        "    theta += y * x\n",
        "\n",
        "    print(f\"make a mistake on x={x}, y={y}; Update to: theta={theta}\")\n",
        "\n",
        "  return theta\n",
        "\n",
        "def perceptron(X, y, T):\n",
        "  \"\"\"\n",
        "  Perceptron algorithm.\n",
        "  \"\"\"\n",
        "\n",
        "  N = X.shape[0]\n",
        "  theta = np.zeros_like(X[0])\n",
        "\n",
        "  for t in range(T):\n",
        "    for i in range(N):\n",
        "      \n",
        "      theta = step(X[i], y[i], theta)\n",
        "  \n",
        "  return theta\n"
      ],
      "execution_count": null,
      "outputs": []
    },
    {
      "cell_type": "code",
      "metadata": {
        "id": "UGHFhjnZXCyo",
        "colab_type": "code",
        "colab": {}
      },
      "source": [
        "X = np.array([[-1, -1],\n",
        "              [ 1,  0],\n",
        "              [-1, 1.5]])\n",
        "\n",
        "y = np.array([1, -1, 1])"
      ],
      "execution_count": null,
      "outputs": []
    },
    {
      "cell_type": "code",
      "metadata": {
        "id": "MPkx_ys9bBS0",
        "colab_type": "code",
        "colab": {
          "base_uri": "https://localhost:8080/",
          "height": 282
        },
        "outputId": "f1aa3bed-593a-4b65-e0e3-e6023ced302d"
      },
      "source": [
        "pos = y > 0\n",
        "neg = y < 0\n",
        "\n",
        "plt.scatter(X[:,0][pos], X[:,1][pos], color=\"r\")\n",
        "plt.scatter(X[:,0][neg], X[:,1][neg], color=\"blue\")"
      ],
      "execution_count": null,
      "outputs": [
        {
          "output_type": "execute_result",
          "data": {
            "text/plain": [
              "<matplotlib.collections.PathCollection at 0x7fd21e372518>"
            ]
          },
          "metadata": {
            "tags": []
          },
          "execution_count": 5
        },
        {
          "output_type": "display_data",
          "data": {
            "image/png": "[encoded data removed]",
            "text/plain": [
              "<Figure size 432x288 with 1 Axes>"
            ]
          },
          "metadata": {
            "tags": [],
            "needs_background": "light"
          }
        }
      ]
    },
    {
      "cell_type": "code",
      "metadata": {
        "id": "uhmbKj6lVquE",
        "colab_type": "code",
        "colab": {
          "base_uri": "https://localhost:8080/",
          "height": 51
        },
        "outputId": "a98962e9-88e7-4fcc-ca42-6ede7b1ee59a"
      },
      "source": [
        "theta = perceptron(X, y, 10)"
      ],
      "execution_count": null,
      "outputs": [
        {
          "output_type": "stream",
          "text": [
            "make a mistake on x=[-1. -1.], y=1; Update to: theta=[-1. -1.]\n",
            "make a mistake on x=[-1.   1.5], y=1; Update to: theta=[-2.   0.5]\n"
          ],
          "name": "stdout"
        }
      ]
    },
    {
      "cell_type": "code",
      "metadata": {
        "id": "XHQuVHEPVtZn",
        "colab_type": "code",
        "colab": {}
      },
      "source": [
        "X = np.array([[ 1,  0],\n",
        "              [-1, 1.5],\n",
        "              [-1, -1]])\n",
        "\n",
        "y = np.array([-1, 1, 1])"
      ],
      "execution_count": null,
      "outputs": []
    },
    {
      "cell_type": "code",
      "metadata": {
        "id": "AmACbjhiW-sz",
        "colab_type": "code",
        "colab": {
          "base_uri": "https://localhost:8080/",
          "height": 34
        },
        "outputId": "346be23b-49bc-47a6-8c99-96c000865d93"
      },
      "source": [
        "theta, theta0 = perceptron(X, y, 10)"
      ],
      "execution_count": null,
      "outputs": [
        {
          "output_type": "stream",
          "text": [
            "make a mistake on x=[1. 0.], y=-1; Update to: theta=[-1.  0.]\n"
          ],
          "name": "stdout"
        }
      ]
    },
    {
      "cell_type": "markdown",
      "metadata": {
        "id": "dpKWm10TYvwL",
        "colab_type": "text"
      },
      "source": [
        "## 1.(c)"
      ]
    },
    {
      "cell_type": "code",
      "metadata": {
        "id": "4nsZGOu8W_EM",
        "colab_type": "code",
        "colab": {}
      },
      "source": [
        "X = np.array([[-1, -1],\n",
        "              [ 1,  0],\n",
        "              [-1, 10]])\n",
        "\n",
        "y = np.array([1, -1, 1])"
      ],
      "execution_count": null,
      "outputs": []
    },
    {
      "cell_type": "code",
      "metadata": {
        "id": "viUREG94bpWM",
        "colab_type": "code",
        "colab": {
          "base_uri": "https://localhost:8080/",
          "height": 282
        },
        "outputId": "077daa62-f49a-4a60-fc6e-98c370c73d90"
      },
      "source": [
        "pos = y > 0\n",
        "neg = y < 0\n",
        "\n",
        "plt.scatter(X[:,0][pos], X[:,1][pos], color=\"r\")\n",
        "plt.scatter(X[:,0][neg], X[:,1][neg], color=\"blue\")"
      ],
      "execution_count": null,
      "outputs": [
        {
          "output_type": "execute_result",
          "data": {
            "text/plain": [
              "<matplotlib.collections.PathCollection at 0x7fd21e301da0>"
            ]
          },
          "metadata": {
            "tags": []
          },
          "execution_count": 10
        },
        {
          "output_type": "display_data",
          "data": {
            "image/png": "[encoded data removed]",
            "text/plain": [
              "<Figure size 432x288 with 1 Axes>"
            ]
          },
          "metadata": {
            "tags": [],
            "needs_background": "light"
          }
        }
      ]
    },
    {
      "cell_type": "code",
      "metadata": {
        "id": "ol8d9In2ZAl-",
        "colab_type": "code",
        "colab": {
          "base_uri": "https://localhost:8080/",
          "height": 119
        },
        "outputId": "9620fa43-57cb-4838-f0cc-308ef062d346"
      },
      "source": [
        "theta, theta0 = perceptron(X, y, 10)"
      ],
      "execution_count": null,
      "outputs": [
        {
          "output_type": "stream",
          "text": [
            "make a mistake on x=[-1 -1], y=1; Update to: theta=[-1 -1]\n",
            "make a mistake on x=[-1 10], y=1; Update to: theta=[-2  9]\n",
            "make a mistake on x=[-1 -1], y=1; Update to: theta=[-3  8]\n",
            "make a mistake on x=[-1 -1], y=1; Update to: theta=[-4  7]\n",
            "make a mistake on x=[-1 -1], y=1; Update to: theta=[-5  6]\n",
            "make a mistake on x=[-1 -1], y=1; Update to: theta=[-6  5]\n"
          ],
          "name": "stdout"
        }
      ]
    },
    {
      "cell_type": "code",
      "metadata": {
        "id": "wofrnRinZA_T",
        "colab_type": "code",
        "colab": {}
      },
      "source": [
        "X = np.array([[ 1,  0],\n",
        "              [-1, 10],\n",
        "              [-1, -1]])\n",
        "\n",
        "y = np.array([-1, 1, 1])"
      ],
      "execution_count": null,
      "outputs": []
    },
    {
      "cell_type": "code",
      "metadata": {
        "id": "_Xr4nLvcZPp1",
        "colab_type": "code",
        "colab": {
          "base_uri": "https://localhost:8080/",
          "height": 34
        },
        "outputId": "ad3dd74c-a857-454c-c2b2-8d36ed7931ad"
      },
      "source": [
        "theta, theta0 = perceptron(X, y, 10)"
      ],
      "execution_count": null,
      "outputs": [
        {
          "output_type": "stream",
          "text": [
            "make a mistake on x=[1 0], y=-1; Update to: theta=[-1  0]\n"
          ],
          "name": "stdout"
        }
      ]
    },
    {
      "cell_type": "markdown",
      "metadata": {
        "id": "s9S9OBuids2R",
        "colab_type": "text"
      },
      "source": [
        "# 2.Perceptron Performance"
      ]
    },
    {
      "cell_type": "code",
      "metadata": {
        "id": "EMCz6RPwDsy2",
        "colab_type": "code",
        "colab": {}
      },
      "source": [
        "def step(x, y, theta, theta0):\n",
        "  \"\"\"\n",
        "  Take one step in updating perceptron.\n",
        "  \"\"\"\n",
        "\n",
        "  if y * (x @ theta + theta0) <= 0:\n",
        "    theta += y * x\n",
        "    theta0+= y\n",
        "\n",
        "    print(f\"make a mistake on x={x}, y={y}; Update to: theta={theta}\")\n",
        "\n",
        "  return theta, theta0\n",
        "\n",
        "def perceptron(X, y, T):\n",
        "  \"\"\"\n",
        "  Perceptron algorithm.\n",
        "  \"\"\"\n",
        "\n",
        "  N = X.shape[0]\n",
        "  theta = np.zeros_like(X[0])\n",
        "  theta0= 0\n",
        "\n",
        "  for t in range(T):\n",
        "    for i in range(N):\n",
        "      \n",
        "      theta, theta0 = step(X[i], y[i], theta, theta0)\n",
        "  \n",
        "  return theta, theta0"
      ],
      "execution_count": null,
      "outputs": []
    },
    {
      "cell_type": "code",
      "metadata": {
        "id": "gv822jMzZQBY",
        "colab_type": "code",
        "colab": {}
      },
      "source": [
        "X = np.array([[-4, 2],\n",
        "              [-2, 1],\n",
        "              [-1,-1],\n",
        "              [ 2, 2],\n",
        "              [ 1,-2]])\n",
        "\n",
        "y = np.array([1, 1, -1, -1, -1])"
      ],
      "execution_count": null,
      "outputs": []
    },
    {
      "cell_type": "code",
      "metadata": {
        "id": "sTjWUGwde5F5",
        "colab_type": "code",
        "colab": {
          "base_uri": "https://localhost:8080/",
          "height": 282
        },
        "outputId": "c6cfc163-215f-4e2d-dc84-22143c2708e4"
      },
      "source": [
        "pos = y > 0\n",
        "neg = y < 0\n",
        "\n",
        "plt.scatter(X[:,0][pos], X[:,1][pos], color=\"r\")\n",
        "plt.scatter(X[:,0][neg], X[:,1][neg], color=\"blue\")"
      ],
      "execution_count": null,
      "outputs": [
        {
          "output_type": "execute_result",
          "data": {
            "text/plain": [
              "<matplotlib.collections.PathCollection at 0x7fd21ddccdd8>"
            ]
          },
          "metadata": {
            "tags": []
          },
          "execution_count": 16
        },
        {
          "output_type": "display_data",
          "data": {
            "image/png": "[encoded data removed]",
            "text/plain": [
              "<Figure size 432x288 with 1 Axes>"
            ]
          },
          "metadata": {
            "tags": [],
            "needs_background": "light"
          }
        }
      ]
    },
    {
      "cell_type": "code",
      "metadata": {
        "id": "vQaO2CPleLIK",
        "colab_type": "code",
        "colab": {
          "base_uri": "https://localhost:8080/",
          "height": 136
        },
        "outputId": "0991ee36-4c04-415a-e269-0404a154a2d4"
      },
      "source": [
        "theta, theta0 = perceptron(X, y, 10)\n",
        "print(theta, theta0)\n",
        "\n",
        "y_pred = np.sign(X @ theta + theta0)\n",
        "(y == y_pred)"
      ],
      "execution_count": null,
      "outputs": [
        {
          "output_type": "stream",
          "text": [
            "make a mistake on x=[-4  2], y=1; Update to: theta=[-4  2]\n",
            "make a mistake on x=[-1 -1], y=-1; Update to: theta=[-3  3]\n",
            "make a mistake on x=[2 2], y=-1; Update to: theta=[-5  1]\n",
            "make a mistake on x=[-1 -1], y=-1; Update to: theta=[-4  2]\n",
            "make a mistake on x=[-1 -1], y=-1; Update to: theta=[-3  3]\n",
            "[-3  3] -3\n"
          ],
          "name": "stdout"
        },
        {
          "output_type": "execute_result",
          "data": {
            "text/plain": [
              "array([ True,  True,  True,  True,  True])"
            ]
          },
          "metadata": {
            "tags": []
          },
          "execution_count": 17
        }
      ]
    },
    {
      "cell_type": "markdown",
      "metadata": {
        "id": "zYJqjT1gEXGD",
        "colab_type": "text"
      },
      "source": [
        "## 2.(b)"
      ]
    },
    {
      "cell_type": "code",
      "metadata": {
        "id": "LsncApCveMK6",
        "colab_type": "code",
        "colab": {}
      },
      "source": [
        "def step(x, y, theta, theta0):\n",
        "  \"\"\"\n",
        "  Take one step in updating perceptron.\n",
        "  \"\"\"\n",
        "\n",
        "  if y * (x @ theta + theta0) <= 0:\n",
        "    theta += y * x\n",
        "    theta0+= y\n",
        "\n",
        "    print(f\"make a mistake on x={x}, y={y}; Update to: theta={theta}\")\n",
        "    \n",
        "  return theta, theta0\n",
        "\n",
        "def perceptron(X, y, T):\n",
        "  \"\"\"\n",
        "  Perceptron algorithm.\n",
        "  \"\"\"\n",
        "\n",
        "  N = X.shape[0]\n",
        "  theta = np.ones_like(X[0])\n",
        "  theta0= 0\n",
        "\n",
        "  for t in range(T):\n",
        "    for i in range(N):\n",
        "      \n",
        "      theta, theta0 = step(X[i], y[i], theta, theta0)\n",
        "  \n",
        "  return theta, theta0"
      ],
      "execution_count": null,
      "outputs": []
    },
    {
      "cell_type": "code",
      "metadata": {
        "id": "s4-RSRbLg11U",
        "colab_type": "code",
        "colab": {
          "base_uri": "https://localhost:8080/",
          "height": 102
        },
        "outputId": "826b859e-5eb3-4942-ef51-c80abfc09d36"
      },
      "source": [
        "theta, theta0 = perceptron(X, y, 10)\n",
        "print(theta, theta0)"
      ],
      "execution_count": null,
      "outputs": [
        {
          "output_type": "stream",
          "text": [
            "make a mistake on x=[-4  2], y=1; Update to: theta=[-3  3]\n",
            "make a mistake on x=[-1 -1], y=-1; Update to: theta=[-2  4]\n",
            "make a mistake on x=[2 2], y=-1; Update to: theta=[-4  2]\n",
            "make a mistake on x=[-1 -1], y=-1; Update to: theta=[-3  3]\n",
            "[-3  3] -2\n"
          ],
          "name": "stdout"
        }
      ]
    },
    {
      "cell_type": "markdown",
      "metadata": {
        "id": "fTMb8PWp9ta-",
        "colab_type": "text"
      },
      "source": [
        "# 6.Perceptron Updates"
      ]
    },
    {
      "cell_type": "code",
      "metadata": {
        "id": "-ehiWcCXg4Lp",
        "colab_type": "code",
        "colab": {}
      },
      "source": [
        "def gen_data(n, d):\n",
        "  X = np.zeros((n, d))\n",
        "  for i in range(n):\n",
        "    X[i, i] = np.cos(np.pi * (i+1))\n",
        "  return X"
      ],
      "execution_count": null,
      "outputs": []
    },
    {
      "cell_type": "code",
      "metadata": {
        "id": "MDy__XX4BLsJ",
        "colab_type": "code",
        "colab": {
          "base_uri": "https://localhost:8080/",
          "height": 68
        },
        "outputId": "c40fe087-efb9-4324-b2b4-e11b6570a9fe"
      },
      "source": [
        "X = gen_data(2, 2)\n",
        "y = np.array([1, 1])\n",
        "\n",
        "print(f\"X={X} \\n y={y}\")"
      ],
      "execution_count": null,
      "outputs": [
        {
          "output_type": "stream",
          "text": [
            "X=[[-1.  0.]\n",
            " [ 0.  1.]] \n",
            " y=[1 1]\n"
          ],
          "name": "stdout"
        }
      ]
    },
    {
      "cell_type": "code",
      "metadata": {
        "id": "mCCdi-ZuBj10",
        "colab_type": "code",
        "colab": {}
      },
      "source": [
        "def step(x, y, theta):\n",
        "  \"\"\"\n",
        "  Take one step in updating perceptron.\n",
        "  \"\"\"\n",
        "\n",
        "  if y * (x @ theta) <= 0:\n",
        "    theta += y * x\n",
        "\n",
        "    print(f\"make a mistake on x={x}, y={y}; Update to: theta={theta}\")\n",
        "\n",
        "  return theta\n",
        "\n",
        "def perceptron(X, y, T):\n",
        "  \"\"\"\n",
        "  Perceptron algorithm.\n",
        "  \"\"\"\n",
        "\n",
        "  N = X.shape[0]\n",
        "  theta = np.zeros_like(X[0])\n",
        "\n",
        "  for t in range(T):\n",
        "    for i in range(N):\n",
        "      \n",
        "      theta = step(X[i], y[i], theta)\n",
        "  \n",
        "  return theta"
      ],
      "execution_count": null,
      "outputs": []
    },
    {
      "cell_type": "code",
      "metadata": {
        "id": "CuUlZlDt-xCg",
        "colab_type": "code",
        "colab": {
          "base_uri": "https://localhost:8080/",
          "height": 51
        },
        "outputId": "23bc11af-65ba-4372-995d-6ff2b1390e54"
      },
      "source": [
        "theta = perceptron(X, y, 10)"
      ],
      "execution_count": null,
      "outputs": [
        {
          "output_type": "stream",
          "text": [
            "make a mistake on x=[-1.  0.], y=1; Update to: theta=[-1.  0.]\n",
            "make a mistake on x=[0. 1.], y=1; Update to: theta=[-1.  1.]\n"
          ],
          "name": "stdout"
        }
      ]
    },
    {
      "cell_type": "code",
      "metadata": {
        "id": "TutgkjD7-0pM",
        "colab_type": "code",
        "colab": {}
      },
      "source": [
        ""
      ],
      "execution_count": null,
      "outputs": []
    }
  ]
}